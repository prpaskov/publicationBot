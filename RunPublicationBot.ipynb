{
 "cells": [
  {
   "cell_type": "code",
   "execution_count": 10,
   "id": "3f2df0ec",
   "metadata": {},
   "outputs": [
    {
     "data": {
      "application/vnd.jupyter.widget-view+json": {
       "model_id": "d8fad11c88074c76b2456a2df950d2b7",
       "version_major": 2,
       "version_minor": 0
      },
      "text/plain": [
       "HBox(children=(VBox(children=(Button(description='Button 1', style=ButtonStyle()), Button(description='Button …"
      ]
     },
     "metadata": {},
     "output_type": "display_data"
    }
   ],
   "source": [
    "import ipywidgets as widgets\n",
    "from IPython.display import display\n",
    "# Create buttons\n",
    "\n",
    "buttons = [widgets.Button(description=f'Button {i+1}') for i in range(10)]\n",
    "\n",
    "# Group buttons in two columns\n",
    "columns = [widgets.VBox(buttons[i::2]) for i in range(2)]\n",
    "\n",
    "# Arrange columns horizontally\n",
    "layout = widgets.HBox(columns)\n",
    "\n",
    "display(layout)"
   ]
  },
  {
   "cell_type": "code",
   "execution_count": 11,
   "id": "3e1c68c2",
   "metadata": {},
   "outputs": [
    {
     "data": {
      "application/vnd.jupyter.widget-view+json": {
       "model_id": "7fe11cba527340058bf501874658d7c4",
       "version_major": 2,
       "version_minor": 0
      },
      "text/plain": [
       "GridspecLayout(children=(Button(description='Button 1', layout=Layout(grid_area='widget001'), style=ButtonStyl…"
      ]
     },
     "metadata": {},
     "output_type": "display_data"
    }
   ],
   "source": [
    "import ipywidgets as widgets\n",
    "from IPython.display import display\n",
    "\n",
    "# Create a 5x2 grid layout\n",
    "grid = widgets.GridspecLayout(5, 2, height='200px')\n",
    "\n",
    "# Populate the grid with buttons\n",
    "for i in range(5):\n",
    "    for j in range(2):\n",
    "        button = widgets.Button(description=f'Button {i*2+j+1}')\n",
    "        grid[i, j] = button\n",
    "\n",
    "display(grid)"
   ]
  },
  {
   "cell_type": "code",
   "execution_count": 12,
   "id": "88cb764c",
   "metadata": {},
   "outputs": [
    {
     "data": {
      "application/vnd.jupyter.widget-view+json": {
       "model_id": "3078fdf2d007449d9b5960c4a9df2d37",
       "version_major": 2,
       "version_minor": 0
      },
      "text/plain": [
       "GridspecLayout(children=(Button(description='Button 1', layout=Layout(grid_area='widget001'), style=ButtonStyl…"
      ]
     },
     "metadata": {},
     "output_type": "display_data"
    },
    {
     "data": {
      "application/vnd.jupyter.widget-view+json": {
       "model_id": "2ca6cc0a87a241b4b7804b915b934b69",
       "version_major": 2,
       "version_minor": 0
      },
      "text/plain": [
       "Output()"
      ]
     },
     "metadata": {},
     "output_type": "display_data"
    }
   ],
   "source": [
    "import ipywidgets as widgets\n",
    "from IPython.display import display, clear_output\n",
    "\n",
    "# Create a 5x2 grid layout\n",
    "grid = widgets.GridspecLayout(5, 2, height='200px')\n",
    "\n",
    "# Function to handle button clicks\n",
    "def button_clicked(b):\n",
    "    with output:\n",
    "        clear_output()\n",
    "        print(f\"{b.description} clicked!\")\n",
    "\n",
    "# Populate the grid with buttons and assign click events\n",
    "for i in range(5):\n",
    "    for j in range(2):\n",
    "        button = widgets.Button(description=f'Button {i*2+j+1}')\n",
    "        button.on_click(button_clicked)\n",
    "        grid[i, j] = button\n",
    "\n",
    "output = widgets.Output()\n",
    "display(grid, output)\n"
   ]
  },
  {
   "cell_type": "code",
   "execution_count": 16,
   "id": "27a03f93",
   "metadata": {},
   "outputs": [
    {
     "data": {
      "application/vnd.jupyter.widget-view+json": {
       "model_id": "1689a7acca174fb7afb67d64ab3163d5",
       "version_major": 2,
       "version_minor": 0
      },
      "text/plain": [
       "HBox(children=(VBox(children=(VBox(children=(Button(description='Button 1', style=ButtonStyle()), Text(value='…"
      ]
     },
     "metadata": {},
     "output_type": "display_data"
    },
    {
     "data": {
      "application/vnd.jupyter.widget-view+json": {
       "model_id": "676df597d04d478d9d3cd2f73690eb48",
       "version_major": 2,
       "version_minor": 0
      },
      "text/plain": [
       "Output()"
      ]
     },
     "metadata": {},
     "output_type": "display_data"
    }
   ],
   "source": [
    "import ipywidgets as widgets\n",
    "from IPython.display import display, clear_output\n",
    "\n",
    "# Create pairs of text inputs and buttons\n",
    "widgets_list = []\n",
    "for i in range(10):\n",
    "    button = widgets.Button(description=f'Button {i+1}')\n",
    "    text_input = widgets.Text(placeholder=f'Input for Button {i+1}', description=f'{i+1}:')\n",
    "    \n",
    "    # Function to handle button clicks\n",
    "    def button_clicked(b, text_input=text_input):\n",
    "        with output:\n",
    "            clear_output()\n",
    "            print(f\"Button {b.description} clicked with text: {text_input.value}\")\n",
    "    \n",
    "    button.on_click(button_clicked)\n",
    "    \n",
    "    # Group each text input and button in a VBox\n",
    "    box = widgets.VBox([button, text_input])\n",
    "    widgets_list.append(box)\n",
    "\n",
    "# Group all VBox widgets into two columns for a 5x2 layout\n",
    "columns = [widgets.VBox(widgets_list[i::2]) for i in range(2)]\n",
    "\n",
    "# Arrange columns horizontally\n",
    "layout = widgets.HBox(columns)\n",
    "\n",
    "output = widgets.Output()\n",
    "display(layout, output)\n"
   ]
  }
 ],
 "metadata": {
  "kernelspec": {
   "display_name": "Python 3 (ipykernel)",
   "language": "python",
   "name": "python3"
  },
  "language_info": {
   "codemirror_mode": {
    "name": "ipython",
    "version": 3
   },
   "file_extension": ".py",
   "mimetype": "text/x-python",
   "name": "python",
   "nbconvert_exporter": "python",
   "pygments_lexer": "ipython3",
   "version": "3.11.5"
  }
 },
 "nbformat": 4,
 "nbformat_minor": 5
}
